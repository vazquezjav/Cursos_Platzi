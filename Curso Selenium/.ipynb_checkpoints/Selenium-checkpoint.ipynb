{
 "cells": [
  {
   "cell_type": "markdown",
   "id": "da32bfa0",
   "metadata": {},
   "source": [
    "### requerimientos \n",
    "* pip install pyunitreport"
   ]
  },
  {
   "cell_type": "code",
   "execution_count": 17,
   "id": "7c559429",
   "metadata": {},
   "outputs": [],
   "source": [
    "\n",
    "from selenium import webdriver"
   ]
  },
  {
   "cell_type": "code",
   "execution_count": 19,
   "id": "c1c32b91",
   "metadata": {},
   "outputs": [
    {
     "name": "stdout",
     "output_type": "stream",
     "text": [
      "Template is not specified, load default template instead.\n"
     ]
    },
    {
     "name": "stderr",
     "output_type": "stream",
     "text": [
      "\n",
      "Running tests... \n",
      "----------------------------------------------------------------------\n",
      " C:\\Users\\vazqu\\AppData\\Roaming\\jupyter\\runtime\\kernel-f45f300f-3361-4e1c-9e06-b9f3ea31feec (unittest.loader._FailedTest) ... ERROR (0.000000)s\n",
      "\n",
      "======================================================================\n",
      "ERROR [0.000000s]: b'C:\\\\Users\\\\vazqu\\\\AppData\\\\Roaming\\\\jupyter\\\\runtime\\\\kernel-f45f300f-3361-4e1c-9e06-b9f3ea31feec (unittest.loader._FailedTest)'\n",
      "----------------------------------------------------------------------\n",
      "AttributeError: module '__main__' has no attribute 'C:\\Users\\vazqu\\AppData\\Roaming\\jupyter\\runtime\\kernel-f45f300f-3361-4e1c-9e06-b9f3ea31feec'\n",
      "\n",
      "----------------------------------------------------------------------\n",
      "Ran 1 test in 0.000s\n",
      "\n",
      "FAILED\n",
      " (Errors=1)\n",
      "\n",
      "Generating HTML reports... \n",
      "Reports generated: C:\\Users\\vazqu\\Desktop\\10mo\\Platzi\\reports\\reportes\\hello-wolrd-report.html\n"
     ]
    },
    {
     "ename": "SystemExit",
     "evalue": "True",
     "output_type": "error",
     "traceback": [
      "An exception has occurred, use %tb to see the full traceback.\n",
      "\u001b[1;31mSystemExit\u001b[0m\u001b[1;31m:\u001b[0m True\n"
     ]
    }
   ],
   "source": [
    "import unittest\n",
    "from pyunitreport import HTMLTestRunner\n",
    "import selenium\n",
    "\n",
    "class Pruebas(unittest.TestCase):\n",
    "    \n",
    "    def setUp(self):\n",
    "        DRIVER_PATH = 'geckodriver.exe'\n",
    "        self.driver = selenium.webdriver.Firefox(executable_path=DRIVER_PATH)\n",
    "        driver=self.driver\n",
    "        driver.implicitly_wait(10)\n",
    "\n",
    "    def test_hello_world(self):\n",
    "        driver = self.driver\n",
    "        driver.get('https://www.platzi.com')\n",
    "    \n",
    "    def tearDown(self):\n",
    "        self.driver.quit()\n",
    "        return super().tearDown()\n",
    "\n",
    "if __name__ == \"__main__\":\n",
    "    unittest.main(verbosity=2,testRunner=HTMLTestRunner(output='reportes',report_name='hello-wolrd-report'))\n",
    "        "
   ]
  },
  {
   "cell_type": "code",
   "execution_count": 26,
   "id": "bb0cb182",
   "metadata": {},
   "outputs": [
    {
     "ename": "NameError",
     "evalue": "name 'cerrar' is not defined",
     "output_type": "error",
     "traceback": [
      "\u001b[1;31m---------------------------------------------------------------------------\u001b[0m",
      "\u001b[1;31mNameError\u001b[0m                                 Traceback (most recent call last)",
      "\u001b[1;32m<ipython-input-26-b5d7ce733e19>\u001b[0m in \u001b[0;36m<module>\u001b[1;34m\u001b[0m\n\u001b[0;32m     15\u001b[0m \u001b[0mdriver\u001b[0m\u001b[1;33m.\u001b[0m\u001b[0mimplicitly_wait\u001b[0m\u001b[1;33m(\u001b[0m\u001b[1;36m10\u001b[0m\u001b[1;33m)\u001b[0m\u001b[1;33m\u001b[0m\u001b[1;33m\u001b[0m\u001b[0m\n\u001b[0;32m     16\u001b[0m \u001b[1;33m\u001b[0m\u001b[0m\n\u001b[1;32m---> 17\u001b[1;33m \u001b[0mcerrar\u001b[0m\u001b[1;33m(\u001b[0m\u001b[0mdriver\u001b[0m\u001b[1;33m)\u001b[0m\u001b[1;33m\u001b[0m\u001b[1;33m\u001b[0m\u001b[0m\n\u001b[0m",
      "\u001b[1;31mNameError\u001b[0m: name 'cerrar' is not defined"
     ]
    }
   ],
   "source": [
    "from selenium import webdriver\n",
    "\n",
    "DRIVER_PATH = 'geckodriver.exe'\n",
    "\n",
    "driver = webdriver.Firefox(executable_path=DRIVER_PATH)\n",
    "driver.get('https://madison-island.com/search?q=')\n",
    "#maximizar ya que puede existir ventanas responsivas\n",
    "driver.maximize_window()\n",
    "driver.implicitly_wait(10)\n",
    "\n",
    "search_field=driver.find_element_by_xpath('//*[@id=\"SearchInput\"]')\n",
    "search_field.send_keys('tee')\n",
    "search_field.submit()\n",
    "\n",
    "driver.implicitly_wait(10)\n",
    "\n",
    "driver.quit()"
   ]
  },
  {
   "cell_type": "code",
   "execution_count": 45,
   "id": "51185c8c",
   "metadata": {},
   "outputs": [
    {
     "name": "stdout",
     "output_type": "stream",
     "text": [
      "None\n"
     ]
    }
   ],
   "source": [
    "import time \n",
    "DRIVER_PATH = 'geckodriver.exe'\n",
    "\n",
    "driver = webdriver.Firefox(executable_path=DRIVER_PATH)\n",
    "driver.get('https://facebook.com')\n",
    "\n",
    "registrar = driver.find_element_by_link_text('Crear cuenta nueva').click()\n",
    "time.sleep(3)\n",
    "driver.find_element_by_css_selector(\"input[name=firstname]\").send_keys('Javier')\n",
    "driver.find_element_by_css_selector(\"input[name=lastname]\").send_keys('Vazquez')\n",
    "driver.find_element_by_css_selector(\"input[name=reg_email__]\").send_keys('email@hotmail.com')\n",
    "driver.find_element_by_css_selector(\"input[name=reg_email_confirmation__]\").send_keys('email@hotmail.com')\n",
    "driver.find_element_by_css_selector(\"input[name=reg_passwd__]\").send_keys('123456789')\n",
    "\n",
    "print(firstname)"
   ]
  },
  {
   "cell_type": "code",
   "execution_count": null,
   "id": "98db816b",
   "metadata": {},
   "outputs": [],
   "source": []
  }
 ],
 "metadata": {
  "kernelspec": {
   "display_name": "Python 3",
   "language": "python",
   "name": "python3"
  },
  "language_info": {
   "codemirror_mode": {
    "name": "ipython",
    "version": 3
   },
   "file_extension": ".py",
   "mimetype": "text/x-python",
   "name": "python",
   "nbconvert_exporter": "python",
   "pygments_lexer": "ipython3",
   "version": "3.7.9"
  }
 },
 "nbformat": 4,
 "nbformat_minor": 5
}
